{
 "cells": [
  {
   "cell_type": "markdown",
   "metadata": {},
   "source": [
    "# Current Population Survey Dashboard\n",
    "\n",
    "### Data generation from bd CPS\n",
    "\n",
    "-----\n",
    "\n",
    "January 19, 2019\n",
    "\n",
    "Brian W. Dew (brian.w.dew@gmail.com; @bd_econ)\n",
    "\n",
    "-----\n",
    "\n",
    "To Do:\n",
    "\n",
    "- Table of values for various age groups (16-24, 25-34, 35-44, 45-54, 55-64, 65+)\n",
    "- Next chart - prime age epop by state (change?)"
   ]
  },
  {
   "cell_type": "code",
   "execution_count": 8,
   "metadata": {
    "ExecuteTime": {
     "end_time": "2019-01-20T03:36:55.397531Z",
     "start_time": "2019-01-20T03:36:55.388789Z"
    }
   },
   "outputs": [],
   "source": [
    "import pandas as pd\n",
    "import numpy as np\n",
    "import os\n",
    "\n",
    "os.chdir('/home/brian/Documents/CPS/data/clean/')\n",
    "\n",
    "path = '/home/brian/Documents/CPS-dashboard/'\n",
    "\n",
    "def write_txt(filename, filetext):\n",
    "    \"\"\"Write label to txt file\"\"\"\n",
    "    with open(filename, 'w') as text_file:\n",
    "        text_file.write(filetext)\n",
    "        \n",
    "def epop(group, variable, weight):\n",
    "    \"\"\"Calculate epop for group\"\"\"\n",
    "    d = group[variable]\n",
    "    w = group[weight]\n",
    "    return (d * w).sum() / w.sum() * 100.0\n",
    "\n",
    "year_range = range(1994, 2019)"
   ]
  },
  {
   "cell_type": "markdown",
   "metadata": {},
   "source": [
    "#### EPOP line chart"
   ]
  },
  {
   "cell_type": "code",
   "execution_count": 2,
   "metadata": {
    "ExecuteTime": {
     "end_time": "2019-01-20T03:33:27.046583Z",
     "start_time": "2019-01-20T03:33:17.747385Z"
    }
   },
   "outputs": [],
   "source": [
    "data = pd.Series()\n",
    "for year in year_range:\n",
    "    df = (pd.read_feather(f'cps{year}.ft')\n",
    "            .filter(['HRMONTH', 'AGE', 'BASICWGT', 'EMP'])\n",
    "            .query('25 <= AGE <= 54')\n",
    "            .groupby('HRMONTH')\n",
    "            .apply(epop, 'EMP', 'BASICWGT'))\n",
    "    df.index = pd.to_datetime([f'{year}-{i}-01' for i in df.index])\n",
    "    data = data.append(df)"
   ]
  },
  {
   "cell_type": "code",
   "execution_count": 3,
   "metadata": {
    "ExecuteTime": {
     "end_time": "2019-01-20T03:33:27.064131Z",
     "start_time": "2019-01-20T03:33:27.048023Z"
    }
   },
   "outputs": [],
   "source": [
    "final = data.rolling(12).mean().dropna()\n",
    "\n",
    "final.to_csv(f'{path}epop.csv', index_label='DATE', header=['epop'])"
   ]
  },
  {
   "cell_type": "code",
   "execution_count": 19,
   "metadata": {
    "ExecuteTime": {
     "end_time": "2019-01-16T01:31:25.919614Z",
     "start_time": "2019-01-16T01:31:25.916079Z"
    }
   },
   "outputs": [],
   "source": [
    "date = final.index[-1].strftime('%Y-%m')\n",
    "val = round(final[-1], 1)\n",
    "text = f'\\scriptsize{{{date}}}\\\\\\ \\\\footnotesize{{\\\\textbf{{{val}\\%}}}}'\n",
    "write_txt(f'{path}epop.txt', text)"
   ]
  },
  {
   "cell_type": "markdown",
   "metadata": {},
   "source": [
    "#### EPOP text block\n",
    "\n",
    "Need: Latest month, latest value, how many more/less would be employed at max and min."
   ]
  },
  {
   "cell_type": "code",
   "execution_count": 16,
   "metadata": {
    "ExecuteTime": {
     "end_time": "2019-01-20T03:39:49.669234Z",
     "start_time": "2019-01-20T03:39:49.375148Z"
    }
   },
   "outputs": [],
   "source": [
    "# Get average 25-54 population in last twelve months\n",
    "data = pd.Series()\n",
    "for year in year_range[-2:]:\n",
    "    df = (pd.read_feather(f'cps{year}.ft')\n",
    "            .filter(['HRMONTH', 'AGE', 'BASICWGT'])\n",
    "            .query('25 <= AGE <= 54')\n",
    "            .groupby('HRMONTH')['BASICWGT'].sum())\n",
    "    df.index = pd.to_datetime([f'{year}-{i}-01' for i in df.index])\n",
    "    data = data.append(df)"
   ]
  },
  {
   "cell_type": "code",
   "execution_count": 38,
   "metadata": {
    "ExecuteTime": {
     "end_time": "2019-01-20T04:01:11.117468Z",
     "start_time": "2019-01-20T04:01:11.110889Z"
    }
   },
   "outputs": [],
   "source": [
    "latest_date = final.index[-1].strftime('%B %Y')\n",
    "latest_val = final[-1] / 100.0\n",
    "max_val = final.max() / 100.0\n",
    "min_val = final.min() / 100.0\n",
    "pop = data[-13:].mean() / 1_000_000.0\n",
    "\n",
    "more_emp = round((max_val * pop) - (latest_val * pop), 1)\n",
    "less_emp = round((latest_val * pop) - (min_val * pop), 1)\n",
    "\n",
    "epop_text = f'{latest_date}, {str(round(latest_val * 100, 1))}'\n",
    "\n",
    "write_txt(f'{path}epop_latest_text.txt', epop_text)\n",
    "write_txt(f'{path}epop_prior_val.txt', str(round(final[-13], 1)))\n",
    "write_txt(f'{path}epop_more_emp.txt', str(more_emp))\n",
    "write_txt(f'{path}epop_less_emp.txt', str(less_emp))"
   ]
  },
  {
   "cell_type": "markdown",
   "metadata": {},
   "source": [
    "#### EPOP bar range chart\n",
    "\n",
    "save three csv files, one per educational group"
   ]
  },
  {
   "cell_type": "code",
   "execution_count": 62,
   "metadata": {
    "ExecuteTime": {
     "end_time": "2019-01-18T00:47:38.439813Z",
     "start_time": "2019-01-18T00:47:38.435079Z"
    }
   },
   "outputs": [],
   "source": [
    "HS_LTHS = ['LTHS', 'HS']\n",
    "SC = ['SC']\n",
    "COLL_ADV = ['COLL', 'ADV']\n",
    "\n",
    "groups = [('Men 25-39', '25 <= AGE <=39 and FEMALE == 0 and EDUC in @HS_LTHS', 'HS_LTHS'),\n",
    "          ('Men 40-54', '40 <= AGE <=54 and FEMALE == 0 and EDUC in @HS_LTHS', 'HS_LTHS'),\n",
    "          ('Women 25-39', '25 <= AGE <=39 and FEMALE == 1 and EDUC in @HS_LTHS', 'HS_LTHS'),\n",
    "          ('Women 40-54', '40 <= AGE <=54 and FEMALE == 1 and EDUC in @HS_LTHS', 'HS_LTHS'),\n",
    "          ('Men 25-39', '25 <= AGE <=39 and FEMALE == 0 and EDUC in @SC', 'SC'),\n",
    "          ('Men 40-54', '40 <= AGE <=54 and FEMALE == 0 and EDUC in @SC', 'SC'),\n",
    "          ('Women 25-39', '25 <= AGE <=39 and FEMALE == 1 and EDUC in @SC', 'SC'),\n",
    "          ('Women 40-54', '40 <= AGE <=54 and FEMALE == 1 and EDUC in @SC', 'SC'),\n",
    "          ('Men 25-39', '25 <= AGE <=39 and FEMALE == 0 and EDUC in @COLL_ADV', 'COLL_ADV'),\n",
    "          ('Men 40-54', '40 <= AGE <=54 and FEMALE == 0 and EDUC in @COLL_ADV', 'COLL_ADV'),\n",
    "          ('Women 25-39', '25 <= AGE <=39 and FEMALE == 1 and EDUC in @COLL_ADV', 'COLL_ADV'),\n",
    "          ('Women 40-54', '40 <= AGE <=54 and FEMALE == 1 and EDUC in @COLL_ADV', 'COLL_ADV')]"
   ]
  },
  {
   "cell_type": "code",
   "execution_count": 63,
   "metadata": {
    "ExecuteTime": {
     "end_time": "2019-01-18T00:47:52.914644Z",
     "start_time": "2019-01-18T00:47:39.758632Z"
    }
   },
   "outputs": [],
   "source": [
    "data = pd.DataFrame()\n",
    "for year in year_range:\n",
    "    year_data = pd.DataFrame()\n",
    "    df = (pd.read_feather(f'cps{year}.ft')\n",
    "            .filter(['HRMONTH', 'AGE', 'BASICWGT', 'EMP', 'FEMALE', 'EDUC'])\n",
    "            .query('25 <= AGE <= 54'))\n",
    "    for grp in groups:\n",
    "        g = (df.query(grp[1])\n",
    "               .groupby('HRMONTH')\n",
    "               .apply(epop, 'EMP', 'BASICWGT'))\n",
    "        g.index = pd.to_datetime([f'{year}-{i}-01' for i in g.index])\n",
    "        grp_name = grp[0] + grp[2]\n",
    "        year_data[grp_name] = g\n",
    "    data = data.append(year_data)"
   ]
  },
  {
   "cell_type": "code",
   "execution_count": 64,
   "metadata": {
    "ExecuteTime": {
     "end_time": "2019-01-18T00:47:56.096605Z",
     "start_time": "2019-01-18T00:47:56.074713Z"
    }
   },
   "outputs": [],
   "source": [
    "combined_data = pd.DataFrame()\n",
    "for grp in groups:\n",
    "    grp_name = grp[0] + grp[2]\n",
    "    d = data[grp_name]\n",
    "    categories = [('max', d.max()-d.min()), ('min', d.min()),\n",
    "                  ('12m', d.iloc[-13]), ('last', d.iloc[-1])]\n",
    "    for cat in categories:\n",
    "        combined_data.at[grp_name, cat[0]] = cat[1]"
   ]
  },
  {
   "cell_type": "code",
   "execution_count": 68,
   "metadata": {
    "ExecuteTime": {
     "end_time": "2019-01-18T00:48:21.932528Z",
     "start_time": "2019-01-18T00:48:21.927435Z"
    }
   },
   "outputs": [],
   "source": [
    "label = list(round(combined_data['last'] - combined_data['12m'], 1))\n",
    "plus_minus = ['+' if val >= 0 else '-' for val in label]\n",
    "last_val = list(combined_data['last'].round(1))\n",
    "final = [f'{a}\\% ({b}{c})' for a, b, c in zip(last_val, plus_minus, label)]\n",
    "\n",
    "combined_data['Label'] = final\n",
    "\n",
    "# Legend text\n",
    "rng = '\\scriptsize 1994-present range'\n",
    "ltdt = data.index[-1].strftime('%b %Y')\n",
    "prdt = data.index[-13].strftime('%b %Y')\n",
    "\n",
    "legend = f'\\legend{{{rng}, \\scriptsize {prdt}, \\scriptsize {ltdt}}}'"
   ]
  },
  {
   "cell_type": "code",
   "execution_count": 69,
   "metadata": {
    "ExecuteTime": {
     "end_time": "2019-01-18T00:48:22.740217Z",
     "start_time": "2019-01-18T00:48:22.736349Z"
    }
   },
   "outputs": [],
   "source": [
    "write_txt(f'{path}epop_grp_legend.txt', legend)"
   ]
  },
  {
   "cell_type": "code",
   "execution_count": 70,
   "metadata": {
    "ExecuteTime": {
     "end_time": "2019-01-18T00:48:23.511837Z",
     "start_time": "2019-01-18T00:48:23.507837Z"
    }
   },
   "outputs": [],
   "source": [
    "combined_data.to_csv(f'{path}epop_group.csv', index_label='group')"
   ]
  }
 ],
 "metadata": {
  "kernelspec": {
   "display_name": "Python 3",
   "language": "python",
   "name": "python3"
  },
  "language_info": {
   "codemirror_mode": {
    "name": "ipython",
    "version": 3
   },
   "file_extension": ".py",
   "mimetype": "text/x-python",
   "name": "python",
   "nbconvert_exporter": "python",
   "pygments_lexer": "ipython3",
   "version": "3.7.2"
  }
 },
 "nbformat": 4,
 "nbformat_minor": 2
}
