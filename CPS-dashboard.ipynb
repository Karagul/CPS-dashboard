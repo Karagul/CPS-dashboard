{
 "cells": [
  {
   "cell_type": "markdown",
   "metadata": {},
   "source": [
    "# Current Population Survey Dashboard\n",
    "\n",
    "### Data generation from bd CPS\n",
    "\n",
    "-----\n",
    "\n",
    "January 11, 2019\n",
    "\n",
    "Brian W. Dew (brian.w.dew@gmail.com; @bd_econ)\n",
    "\n",
    "-----\n",
    "\n",
    "To Do:\n",
    "\n",
    "- Generate data for employment to population ratio graph\n",
    "- Generate text for employment to population ratio graph"
   ]
  },
  {
   "cell_type": "code",
   "execution_count": 10,
   "metadata": {
    "ExecuteTime": {
     "end_time": "2019-01-12T03:15:59.607986Z",
     "start_time": "2019-01-12T03:15:59.603424Z"
    }
   },
   "outputs": [],
   "source": [
    "import pandas as pd\n",
    "import numpy as np\n",
    "import os\n",
    "\n",
    "os.chdir('/home/brian/Documents/CPS/data/clean/')\n",
    "\n",
    "path = '/home/brian/Documents/CPS-dashboard/'"
   ]
  },
  {
   "cell_type": "code",
   "execution_count": 6,
   "metadata": {
    "ExecuteTime": {
     "end_time": "2019-01-12T03:13:33.397046Z",
     "start_time": "2019-01-12T03:13:24.295952Z"
    }
   },
   "outputs": [],
   "source": [
    "wm = lambda x: np.average(x, weights=df.loc[x.index, 'PWSSWGT']) * 100\n",
    "data = pd.DataFrame()\n",
    "for year in range(1994, 1998):\n",
    "    df = (pd.read_feather(f'cps{year}.ft')\n",
    "            .filter(['HRMONTH', 'AGE', 'PWSSWGT', 'EMP'])\n",
    "            .query('25 <= AGE <= 54'))\n",
    "\n",
    "    result = (df.groupby('HRMONTH')\n",
    "                .agg({'EMP': wm}))\n",
    "    result.index = pd.to_datetime([f'{year}-{i}-01' for i in result.index])\n",
    "    data = data.append(result)\n",
    "\n",
    "wm = lambda x: np.average(x, weights=df.loc[x.index, 'PWCMPWGT']) * 100\n",
    "for year in range(1998, 2019):\n",
    "    df = (pd.read_feather(f'cps{year}.ft')\n",
    "            .filter(['HRMONTH', 'AGE', 'PWCMPWGT', 'EMP'])\n",
    "            .query('25 <= AGE <= 54'))\n",
    "\n",
    "    result = (df.groupby('HRMONTH')\n",
    "                .agg({'EMP': wm}))\n",
    "    result.index = pd.to_datetime([f'{year}-{i}-01' for i in result.index])\n",
    "    data = data.append(result)    "
   ]
  },
  {
   "cell_type": "code",
   "execution_count": 16,
   "metadata": {
    "ExecuteTime": {
     "end_time": "2019-01-12T03:18:48.943271Z",
     "start_time": "2019-01-12T03:18:48.936610Z"
    }
   },
   "outputs": [],
   "source": [
    "final = data.EMP.rolling(12).mean().dropna()\n",
    "\n",
    "\n",
    "final.to_csv(f'{path}epop.csv', index_label='DATE', header=['epop'])"
   ]
  }
 ],
 "metadata": {
  "kernelspec": {
   "display_name": "Python 3",
   "language": "python",
   "name": "python3"
  },
  "language_info": {
   "codemirror_mode": {
    "name": "ipython",
    "version": 3
   },
   "file_extension": ".py",
   "mimetype": "text/x-python",
   "name": "python",
   "nbconvert_exporter": "python",
   "pygments_lexer": "ipython3",
   "version": "3.7.2"
  }
 },
 "nbformat": 4,
 "nbformat_minor": 2
}
