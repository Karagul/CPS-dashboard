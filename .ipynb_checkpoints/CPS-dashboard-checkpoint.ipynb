{
 "cells": [
  {
   "cell_type": "markdown",
   "metadata": {},
   "source": [
    "# Current Population Survey Dashboard\n",
    "\n",
    "### Data generation from bd CPS\n",
    "\n",
    "-----\n",
    "\n",
    "January 15, 2019\n",
    "\n",
    "Brian W. Dew (brian.w.dew@gmail.com; @bd_econ)\n",
    "\n",
    "-----\n",
    "\n",
    "To Do:\n",
    "\n",
    "- Generate data for employment to population ratio range bar graph\n",
    "- Check whether another way of calculating epop would be faster"
   ]
  },
  {
   "cell_type": "code",
   "execution_count": 1,
   "metadata": {
    "ExecuteTime": {
     "end_time": "2019-01-15T20:04:13.936127Z",
     "start_time": "2019-01-15T20:04:13.672487Z"
    }
   },
   "outputs": [],
   "source": [
    "import pandas as pd\n",
    "import numpy as np\n",
    "import os\n",
    "\n",
    "os.chdir('/home/brian/Documents/CPS/data/clean/')\n",
    "\n",
    "path = '/home/brian/Documents/CPS-dashboard/'\n",
    "\n",
    "def write_txt(filename, filetext):\n",
    "# Write label to txt file\n",
    "    with open(filename, 'w') as text_file:\n",
    "        text_file.write(filetext)"
   ]
  },
  {
   "cell_type": "markdown",
   "metadata": {},
   "source": [
    "#### EPOP line chart"
   ]
  },
  {
   "cell_type": "code",
   "execution_count": 2,
   "metadata": {
    "ExecuteTime": {
     "end_time": "2019-01-15T20:04:24.421214Z",
     "start_time": "2019-01-15T20:04:13.938366Z"
    }
   },
   "outputs": [],
   "source": [
    "epop = lambda x: np.average(x, weights=df.loc[x.index, 'BASICWGT']) * 100\n",
    "data = pd.DataFrame()\n",
    "for year in range(1994, 2019):\n",
    "    df = (pd.read_feather(f'cps{year}.ft')\n",
    "            .filter(['HRMONTH', 'AGE', 'BASICWGT', 'EMP'])\n",
    "            .query('25 <= AGE <= 54'))\n",
    "    # Apply epop calculation\n",
    "    result = (df.groupby('HRMONTH')\n",
    "                .agg({'EMP': epop}))\n",
    "    result.index = pd.to_datetime([f'{year}-{i}-01' for i in result.index])\n",
    "    data = data.append(result)"
   ]
  },
  {
   "cell_type": "code",
   "execution_count": 3,
   "metadata": {
    "ExecuteTime": {
     "end_time": "2019-01-15T20:04:24.443630Z",
     "start_time": "2019-01-15T20:04:24.422517Z"
    }
   },
   "outputs": [],
   "source": [
    "final = data.EMP.rolling(12).mean().dropna()\n",
    "\n",
    "final.to_csv(f'{path}epop.csv', index_label='DATE', header=['epop'])"
   ]
  },
  {
   "cell_type": "code",
   "execution_count": 4,
   "metadata": {
    "ExecuteTime": {
     "end_time": "2019-01-15T20:04:24.472578Z",
     "start_time": "2019-01-15T20:04:24.462671Z"
    }
   },
   "outputs": [],
   "source": [
    "date = final.index[-1].strftime('%Y-%m')\n",
    "val = round(final[-1], 1)\n",
    "text = f'\\scriptsize{{{date}}}\\\\\\ \\\\footnotesize{{\\\\textbf{{{val}\\%}}}}'\n",
    "write_txt(f'{path}epop.txt', text)"
   ]
  },
  {
   "cell_type": "markdown",
   "metadata": {},
   "source": [
    "#### EPOP bar range chart"
   ]
  },
  {
   "cell_type": "code",
   "execution_count": null,
   "metadata": {},
   "outputs": [],
   "source": []
  },
  {
   "cell_type": "code",
   "execution_count": null,
   "metadata": {},
   "outputs": [],
   "source": []
  },
  {
   "cell_type": "code",
   "execution_count": null,
   "metadata": {},
   "outputs": [],
   "source": []
  },
  {
   "cell_type": "code",
   "execution_count": null,
   "metadata": {},
   "outputs": [],
   "source": []
  },
  {
   "cell_type": "code",
   "execution_count": null,
   "metadata": {},
   "outputs": [],
   "source": []
  }
 ],
 "metadata": {
  "kernelspec": {
   "display_name": "Python 3",
   "language": "python",
   "name": "python3"
  },
  "language_info": {
   "codemirror_mode": {
    "name": "ipython",
    "version": 3
   },
   "file_extension": ".py",
   "mimetype": "text/x-python",
   "name": "python",
   "nbconvert_exporter": "python",
   "pygments_lexer": "ipython3",
   "version": "3.7.2"
  }
 },
 "nbformat": 4,
 "nbformat_minor": 2
}
