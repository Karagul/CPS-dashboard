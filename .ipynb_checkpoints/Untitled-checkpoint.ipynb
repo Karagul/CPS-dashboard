{
 "cells": [
  {
   "cell_type": "markdown",
   "metadata": {},
   "source": [
    "# Current Population Survey Dashboard\n",
    "\n",
    "### Data generation from bd CPS\n",
    "\n",
    "-----\n",
    "\n",
    "January 11, 2019\n",
    "\n",
    "Brian W. Dew (brian.w.dew@gmail.com; @bd_econ)\n",
    "\n",
    "-----\n",
    "\n",
    "To Do:\n",
    "\n",
    "- Generate data for employment to population ratio graph\n",
    "- Generate text for employment to population ratio graph"
   ]
  },
  {
   "cell_type": "code",
   "execution_count": 1,
   "metadata": {
    "ExecuteTime": {
     "end_time": "2019-01-11T15:52:26.422438Z",
     "start_time": "2019-01-11T15:52:26.108872Z"
    }
   },
   "outputs": [],
   "source": [
    "import pandas as pd\n",
    "import numpy as np\n",
    "import os\n",
    "\n",
    "os.chdir('/home/brian/Documents/CPS/data/clean/')"
   ]
  },
  {
   "cell_type": "code",
   "execution_count": null,
   "metadata": {},
   "outputs": [],
   "source": []
  },
  {
   "cell_type": "code",
   "execution_count": null,
   "metadata": {},
   "outputs": [],
   "source": []
  },
  {
   "cell_type": "code",
   "execution_count": null,
   "metadata": {},
   "outputs": [],
   "source": []
  }
 ],
 "metadata": {
  "kernelspec": {
   "display_name": "Python 3",
   "language": "python",
   "name": "python3"
  },
  "language_info": {
   "codemirror_mode": {
    "name": "ipython",
    "version": 3
   },
   "file_extension": ".py",
   "mimetype": "text/x-python",
   "name": "python",
   "nbconvert_exporter": "python",
   "pygments_lexer": "ipython3",
   "version": "3.7.2"
  }
 },
 "nbformat": 4,
 "nbformat_minor": 2
}
